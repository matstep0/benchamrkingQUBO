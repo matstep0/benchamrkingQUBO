{
 "cells": [
  {
   "cell_type": "code",
   "execution_count": 169,
   "metadata": {},
   "outputs": [],
   "source": [
    "#Generate traingle matrix (n) with densiti parametr d (0,1).\n",
    "n=20 #size of array\n",
    "d=0.7\n",
    "import numpy \n",
    "import random\n",
    "matrix=numpy.tril(numpy.random.rand(n,n))\n",
    "x,y=numpy.nonzero(matrix)\n",
    "ind=list(zip(x,y))\n",
    "ind=random.choices(ind,k=int((1-d)*len(ind))) \n",
    "for (i,j) in ind:\n",
    "    matrix[i,j]=0"
   ]
  },
  {
   "cell_type": "code",
   "execution_count": 171,
   "metadata": {},
   "outputs": [],
   "source": [
    "#Generating model with parameters so QUBO problem with matrix Mij\n",
    "\n",
    "spiny=[Spin(\"s\"+str(i)) for i in range(1,n+1)]\n",
    "H=0\n",
    "for i in range(0,n):\n",
    "    for j in range(0,n):\n",
    "        H+= matrix[i,j]*spiny[i]*spiny[j]\n",
    "model=H.compile()\n",
    "qubo, offset = model.to_qubo()"
   ]
  },
  {
   "cell_type": "code",
   "execution_count": 172,
   "metadata": {},
   "outputs": [
    {
     "data": {
      "text/plain": [
       "{'s9': 0,\n",
       " 's8': 1,\n",
       " 's7': 1,\n",
       " 's6': 0,\n",
       " 's11': 1,\n",
       " 's14': 1,\n",
       " 's1': 0,\n",
       " 's12': 1,\n",
       " 's10': 0,\n",
       " 's5': 1,\n",
       " 's15': 1,\n",
       " 's16': 1,\n",
       " 's2': 0,\n",
       " 's13': 0,\n",
       " 's17': 1,\n",
       " 's4': 0,\n",
       " 's18': 1,\n",
       " 's19': 0,\n",
       " 's3': 0,\n",
       " 's20': 0}"
      ]
     },
     "execution_count": 172,
     "metadata": {},
     "output_type": "execute_result"
    }
   ],
   "source": [
    "#Get sollution from Simulate Annealing\n",
    "sampler = neal.SimulatedAnnealingSampler()\n",
    "bqm = model.to_bqm()\n",
    "sampleset = sampler.sample(bqm, num_reads=10)\n",
    "decoded_samples = model.decode_sampleset(sampleset)\n",
    "best_sample = min(decoded_samples, key=lambda x: x.energy)\n",
    "best_sample.sample # doctest: +SKIP"
   ]
  },
  {
   "cell_type": "code",
   "execution_count": null,
   "metadata": {},
   "outputs": [],
   "source": []
  },
  {
   "cell_type": "code",
   "execution_count": null,
   "metadata": {},
   "outputs": [],
   "source": []
  }
 ],
 "metadata": {
  "kernelspec": {
   "display_name": "Python 3",
   "language": "python",
   "name": "python3"
  },
  "language_info": {
   "codemirror_mode": {
    "name": "ipython",
    "version": 3
   },
   "file_extension": ".py",
   "mimetype": "text/x-python",
   "name": "python",
   "nbconvert_exporter": "python",
   "pygments_lexer": "ipython3",
   "version": "3.7.3"
  }
 },
 "nbformat": 4,
 "nbformat_minor": 2
}
